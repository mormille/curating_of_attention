{
 "cells": [
  {
   "cell_type": "code",
   "execution_count": 1,
   "id": "robust-vaccine",
   "metadata": {},
   "outputs": [],
   "source": [
    "from PIL import Image\n",
    "import requests\n",
    "import matplotlib.pyplot as plt\n",
    "%config InlineBackend.figure_format = 'retina'\n",
    "import math\n",
    "from typing import Optional, List\n",
    "import copy\n",
    "import numpy as np\n",
    "\n",
    "import torch\n",
    "from torch import nn, Tensor\n",
    "import torchvision\n",
    "from torchvision.models import resnet50, resnet101\n",
    "import torchvision.transforms as T\n",
    "import torch.nn.functional as F\n",
    "torch.set_grad_enabled(False);"
   ]
  },
  {
   "cell_type": "code",
   "execution_count": 2,
   "id": "approved-ebony",
   "metadata": {},
   "outputs": [],
   "source": [
    "from models.backbone import Backbone\n",
    "from models.encoder import EncoderModule\n",
    "from models.joiner import Joiner\n",
    "from models.losses import Attention_penalty_factor"
   ]
  },
  {
   "cell_type": "code",
   "execution_count": 3,
   "id": "third-richards",
   "metadata": {},
   "outputs": [],
   "source": [
    "url = 'https://ogden_images.s3.amazonaws.com/www.timesrepublican.com/images/2019/05/02231710/Fox-WEB-1100x739.jpg'\n",
    "\n",
    "im = Image.open(requests.get(url, stream=True).raw)"
   ]
  },
  {
   "cell_type": "code",
   "execution_count": 4,
   "id": "favorite-pixel",
   "metadata": {},
   "outputs": [],
   "source": [
    "H = 180\n",
    "W=180\n",
    "\n",
    "transform = T.Compose([\n",
    "T.Resize((H,W)),\n",
    "T.ToTensor(),\n",
    "T.Normalize([0.485, 0.456, 0.406], [0.229, 0.224, 0.225])\n",
    "])"
   ]
  },
  {
   "cell_type": "code",
   "execution_count": 5,
   "id": "constitutional-sound",
   "metadata": {},
   "outputs": [],
   "source": [
    "backbone = Backbone()\n",
    "encoder = EncoderModule()\n",
    "model = Joiner(backbone, encoder, hidden_dim=512, image_h=H, image_w=W)"
   ]
  },
  {
   "cell_type": "code",
   "execution_count": 6,
   "id": "stupid-multiple",
   "metadata": {},
   "outputs": [],
   "source": [
    "def model_test(im, model):\n",
    "    # mean-std normalize the input image (batch-size: 1)\n",
    "    img = transform(im).unsqueeze(0)\n",
    "\n",
    "    # propagate through the model\n",
    "    #output = model(img)\n",
    "    output, att_map, sattn, f_map, pos, pattn = model(img)\n",
    "    return output, att_map, sattn, f_map, pos, pattn"
   ]
  },
  {
   "cell_type": "code",
   "execution_count": 7,
   "id": "sixth-prime",
   "metadata": {},
   "outputs": [],
   "source": [
    "outputs, att, sattn, f_map, pos, pattn = model_test(im,model)"
   ]
  },
  {
   "cell_type": "code",
   "execution_count": 8,
   "id": "tight-zealand",
   "metadata": {},
   "outputs": [],
   "source": [
    "img = transform(im).unsqueeze(0)"
   ]
  },
  {
   "cell_type": "code",
   "execution_count": 11,
   "id": "standard-rebel",
   "metadata": {},
   "outputs": [
    {
     "data": {
      "text/plain": [
       "torch.Size([16, 16])"
      ]
     },
     "execution_count": 11,
     "metadata": {},
     "output_type": "execute_result"
    }
   ],
   "source": [
    "dist_matrix = Attention_penalty_factor.distance_matrix(batch_size=1, width=12, height=12, grid_l=3)\n",
    "dist_matrix.shape"
   ]
  },
  {
   "cell_type": "code",
   "execution_count": 12,
   "id": "comprehensive-brother",
   "metadata": {},
   "outputs": [
    {
     "data": {
      "text/plain": [
       "torch.Size([12, 12])"
      ]
     },
     "execution_count": 12,
     "metadata": {},
     "output_type": "execute_result"
    }
   ],
   "source": [
    "grids_matrix = Attention_penalty_factor.grids_matrix(batch_size=1,width=12, height=12)\n",
    "grids_matrix.shape"
   ]
  },
  {
   "cell_type": "code",
   "execution_count": 13,
   "id": "electrical-belarus",
   "metadata": {},
   "outputs": [
    {
     "data": {
      "text/plain": [
       "torch.Size([16, 16])"
      ]
     },
     "execution_count": 13,
     "metadata": {},
     "output_type": "execute_result"
    }
   ],
   "source": [
    "pf_matrix = Attention_penalty_factor.penalty_factor(dist_matrix=dist_matrix,penalty_factor=\"2\")\n",
    "pf_matrix.shape"
   ]
  },
  {
   "cell_type": "code",
   "execution_count": 14,
   "id": "increased-migration",
   "metadata": {},
   "outputs": [
    {
     "data": {
      "text/plain": [
       "torch.Size([1, 12, 12, 12, 12])"
      ]
     },
     "execution_count": 14,
     "metadata": {},
     "output_type": "execute_result"
    }
   ],
   "source": [
    "penalty_masks = Attention_penalty_factor.penalty_matrix(batch_size=1, width=12, \n",
    "                                                        height=12,grid_matrix=grids_matrix,pf_matrix=pf_matrix)\n",
    "penalty_masks.shape"
   ]
  },
  {
   "cell_type": "code",
   "execution_count": 15,
   "id": "consistent-shape",
   "metadata": {},
   "outputs": [
    {
     "data": {
      "text/plain": [
       "<matplotlib.image.AxesImage at 0x7fa38aa63700>"
      ]
     },
     "execution_count": 15,
     "metadata": {},
     "output_type": "execute_result"
    },
    {
     "data": {
      "image/png": "[encoded data removed]",
      "text/plain": [
       "<Figure size 432x288 with 4 Axes>"
      ]
     },
     "metadata": {
      "image/png": {
       "height": 249,
       "width": 315
      },
      "needs_background": "light"
     },
     "output_type": "display_data"
    }
   ],
   "source": [
    "# 2D Visualization\n",
    "# show 4 different dimensions of the positional encoding\n",
    "plt.subplot(221)\n",
    "plt.imshow(dist_matrix)\n",
    "plt.subplot(222)\n",
    "plt.imshow(grids_matrix)\n",
    "plt.subplot(223)\n",
    "plt.imshow(pf_matrix)\n",
    "plt.subplot(224)\n",
    "plt.imshow(penalty_masks[0,5,5,:,:])"
   ]
  },
  {
   "cell_type": "code",
   "execution_count": 16,
   "id": "living-upper",
   "metadata": {},
   "outputs": [
    {
     "data": {
      "text/plain": [
       "<matplotlib.image.AxesImage at 0x7fa38b580b80>"
      ]
     },
     "execution_count": 16,
     "metadata": {},
     "output_type": "execute_result"
    },
    {
     "data": {
      "image/png": "[encoded data removed]",
      "text/plain": [
       "<Figure size 432x288 with 4 Axes>"
      ]
     },
     "metadata": {
      "image/png": {
       "height": 248,
       "width": 315
      },
      "needs_background": "light"
     },
     "output_type": "display_data"
    }
   ],
   "source": [
    "# 2D Visualization\n",
    "# show 4 different dimensions of the positional encoding\n",
    "plt.subplot(221)\n",
    "plt.imshow(pos[0,0,:,:])\n",
    "plt.subplot(222)\n",
    "plt.imshow(pos[0,255,:,:])\n",
    "plt.subplot(223)\n",
    "plt.imshow(pos[0,256,:,:])\n",
    "plt.subplot(224)\n",
    "plt.imshow(pos[0,511,:,:])"
   ]
  },
  {
   "cell_type": "code",
   "execution_count": 17,
   "id": "critical-miracle",
   "metadata": {},
   "outputs": [
    {
     "data": {
      "text/plain": [
       "<matplotlib.image.AxesImage at 0x7fa3a07e7820>"
      ]
     },
     "execution_count": 17,
     "metadata": {},
     "output_type": "execute_result"
    },
    {
     "data": {
      "image/png": "[encoded data removed]",
      "text/plain": [
       "<Figure size 432x288 with 4 Axes>"
      ]
     },
     "metadata": {
      "image/png": {
       "height": 248,
       "width": 315
      },
      "needs_background": "light"
     },
     "output_type": "display_data"
    }
   ],
   "source": [
    "# 2D Visualization\n",
    "# show 4 different dimensions of the backbone output\n",
    "f_maps_view = f_map.squeeze(0)\n",
    "plt.subplot(221)\n",
    "plt.imshow(f_maps_view[0,:,:])\n",
    "plt.subplot(222)\n",
    "plt.imshow(f_maps_view[63,:,:])\n",
    "plt.subplot(223)\n",
    "plt.imshow(f_maps_view[64,:,:])\n",
    "plt.subplot(224)\n",
    "plt.imshow(f_maps_view[127,:,:])"
   ]
  },
  {
   "cell_type": "code",
   "execution_count": 18,
   "id": "behavioral-plasma",
   "metadata": {},
   "outputs": [
    {
     "data": {
      "text/plain": [
       "<matplotlib.image.AxesImage at 0x7fa3d91ae760>"
      ]
     },
     "execution_count": 18,
     "metadata": {},
     "output_type": "execute_result"
    },
    {
     "data": {
      "image/png": "[encoded data removed]",
      "text/plain": [
       "<Figure size 432x288 with 4 Axes>"
      ]
     },
     "metadata": {
      "image/png": {
       "height": 248,
       "width": 315
      },
      "needs_background": "light"
     },
     "output_type": "display_data"
    }
   ],
   "source": [
    "# 2D Visualization\n",
    "# show 4 different dimensions of the encoder output\n",
    "plt.subplot(221)\n",
    "plt.imshow(att[0,0,:,:])\n",
    "plt.subplot(222)\n",
    "plt.imshow(att[0,255,:,:])\n",
    "plt.subplot(223)\n",
    "plt.imshow(att[0,256,:,:])\n",
    "plt.subplot(224)\n",
    "plt.imshow(att[0,511,:,:])"
   ]
  },
  {
   "cell_type": "code",
   "execution_count": 19,
   "id": "greater-characterization",
   "metadata": {},
   "outputs": [
    {
     "name": "stdout",
     "output_type": "stream",
     "text": [
      "Self-attention torch.Size([1, 12, 12, 12, 12])\n"
     ]
    },
    {
     "data": {
      "text/plain": [
       "<matplotlib.image.AxesImage at 0x7fa38b335130>"
      ]
     },
     "execution_count": 19,
     "metadata": {},
     "output_type": "execute_result"
    },
    {
     "data": {
      "image/png": "[encoded data removed]",
      "text/plain": [
       "<Figure size 432x288 with 4 Axes>"
      ]
     },
     "metadata": {
      "image/png": {
       "height": 248,
       "width": 315
      },
      "needs_background": "light"
     },
     "output_type": "display_data"
    }
   ],
   "source": [
    "print(\"Self-attention\", sattn.shape)\n",
    "plt.subplot(221)\n",
    "plt.imshow(sattn[0,...,0,0])\n",
    "plt.subplot(222)\n",
    "plt.imshow(sattn[0,...,0,11])\n",
    "plt.subplot(223)\n",
    "plt.imshow(sattn[0,...,11,0])\n",
    "plt.subplot(224)\n",
    "plt.imshow(sattn[0,...,11,11])"
   ]
  },
  {
   "cell_type": "code",
   "execution_count": 20,
   "id": "interested-field",
   "metadata": {},
   "outputs": [
    {
     "data": {
      "text/plain": [
       "torch.Size([1, 12, 12, 12, 12])"
      ]
     },
     "execution_count": 20,
     "metadata": {},
     "output_type": "execute_result"
    }
   ],
   "source": [
    "A = sattn\n",
    "A.shape\n",
    "#([2, 3, 8, 8])\n",
    "\n",
    "#temp = A.view(2, 3, 32, 2)\n",
    "#ind  = np.arange(32)\n",
    "#ind2 = ind.reshape(8, 4).T.reshape(16, 2)\n",
    "#B = temp[:, :, ind2, :]\n",
    "#B2.shape"
   ]
  },
  {
   "cell_type": "code",
   "execution_count": 21,
   "id": "classical-consciousness",
   "metadata": {},
   "outputs": [
    {
     "data": {
      "text/plain": [
       "48"
      ]
     },
     "execution_count": 21,
     "metadata": {},
     "output_type": "execute_result"
    }
   ],
   "source": [
    "grid_l = 3\n",
    "grid_temp = A.shape[2]*A.shape[3]//grid_l\n",
    "grid_temp"
   ]
  },
  {
   "cell_type": "code",
   "execution_count": null,
   "id": "gross-bangkok",
   "metadata": {},
   "outputs": [],
   "source": []
  },
  {
   "cell_type": "code",
   "execution_count": 22,
   "id": "listed-triangle",
   "metadata": {},
   "outputs": [
    {
     "name": "stdout",
     "output_type": "stream",
     "text": [
      "torch.Size([1, 144, 48, 3])\n",
      "(48,)\n",
      "(16, 3)\n",
      "torch.Size([1, 144, 16, 3, 3])\n"
     ]
    }
   ],
   "source": [
    "temp = A.view(A.shape[0], A.shape[1]*A.shape[2], grid_temp, grid_l)\n",
    "print(temp.shape)\n",
    "ind  = np.arange(grid_temp)\n",
    "print(ind.shape)\n",
    "ind2 = ind.reshape(A.shape[2], grid_temp//A.shape[2]).T.reshape(grid_temp//grid_l, grid_l)\n",
    "print(ind2.shape)\n",
    "B = temp[:, :, ind2, :]\n",
    "print(B.shape)"
   ]
  },
  {
   "cell_type": "code",
   "execution_count": 23,
   "id": "creative-concentration",
   "metadata": {},
   "outputs": [
    {
     "data": {
      "text/plain": [
       "<matplotlib.image.AxesImage at 0x7fa3ea30eca0>"
      ]
     },
     "execution_count": 23,
     "metadata": {},
     "output_type": "execute_result"
    },
    {
     "data": {
      "image/png": "[encoded data removed]",
      "text/plain": [
       "<Figure size 432x288 with 4 Axes>"
      ]
     },
     "metadata": {
      "image/png": {
       "height": 248,
       "width": 315
      },
      "needs_background": "light"
     },
     "output_type": "display_data"
    }
   ],
   "source": [
    "# 2D Visualization\n",
    "# show 4 different dimensions of the encoder output\n",
    "plt.subplot(221)\n",
    "plt.imshow(A[0,0,0,:,:])\n",
    "plt.subplot(222)\n",
    "plt.imshow(A[0,11,11,:,:])\n",
    "plt.subplot(223)\n",
    "plt.imshow(B[0,0,15,:,:])\n",
    "plt.subplot(224)\n",
    "plt.imshow(B[0,143,15,:,:])"
   ]
  },
  {
   "cell_type": "code",
   "execution_count": 25,
   "id": "white-given",
   "metadata": {},
   "outputs": [
    {
     "data": {
      "text/plain": [
       "<matplotlib.image.AxesImage at 0x7fa38b616ac0>"
      ]
     },
     "execution_count": 25,
     "metadata": {},
     "output_type": "execute_result"
    },
    {
     "data": {
      "image/png": "[encoded data removed]",
      "text/plain": [
       "<Figure size 432x288 with 3 Axes>"
      ]
     },
     "metadata": {
      "image/png": {
       "height": 248,
       "width": 315
      },
      "needs_background": "light"
     },
     "output_type": "display_data"
    }
   ],
   "source": [
    "p1h = 4\n",
    "p1w = 4\n",
    "\n",
    "plt.subplot(221)\n",
    "plt.imshow(sattn[0,p1h,p1w,...])\n",
    "plt.subplot(222)\n",
    "plt.imshow(penalty_masks[0,p1h,p1w,...])\n",
    "plt.subplot(223)\n",
    "plt.imshow(pattn[0,p1h,p1w,...])"
   ]
  },
  {
   "cell_type": "code",
   "execution_count": 18,
   "id": "insured-dance",
   "metadata": {},
   "outputs": [],
   "source": []
  },
  {
   "cell_type": "code",
   "execution_count": 19,
   "id": "intensive-louisiana",
   "metadata": {},
   "outputs": [],
   "source": []
  },
  {
   "cell_type": "code",
   "execution_count": null,
   "id": "tamil-asset",
   "metadata": {},
   "outputs": [],
   "source": []
  },
  {
   "cell_type": "code",
   "execution_count": 20,
   "id": "fleet-episode",
   "metadata": {},
   "outputs": [],
   "source": []
  },
  {
   "cell_type": "code",
   "execution_count": 21,
   "id": "dirty-vocabulary",
   "metadata": {},
   "outputs": [],
   "source": []
  },
  {
   "cell_type": "code",
   "execution_count": 22,
   "id": "governing-questionnaire",
   "metadata": {},
   "outputs": [],
   "source": []
  },
  {
   "cell_type": "code",
   "execution_count": null,
   "id": "naughty-drunk",
   "metadata": {},
   "outputs": [],
   "source": []
  },
  {
   "cell_type": "code",
   "execution_count": null,
   "id": "ordinary-border",
   "metadata": {},
   "outputs": [],
   "source": []
  },
  {
   "cell_type": "code",
   "execution_count": null,
   "id": "sustainable-thickness",
   "metadata": {},
   "outputs": [],
   "source": []
  },
  {
   "cell_type": "code",
   "execution_count": null,
   "id": "blessed-domain",
   "metadata": {},
   "outputs": [],
   "source": []
  },
  {
   "cell_type": "code",
   "execution_count": null,
   "id": "transparent-radical",
   "metadata": {},
   "outputs": [],
   "source": []
  },
  {
   "cell_type": "code",
   "execution_count": null,
   "id": "permanent-potato",
   "metadata": {},
   "outputs": [],
   "source": []
  },
  {
   "cell_type": "code",
   "execution_count": null,
   "id": "based-fantasy",
   "metadata": {},
   "outputs": [],
   "source": []
  },
  {
   "cell_type": "code",
   "execution_count": null,
   "id": "figured-haiti",
   "metadata": {},
   "outputs": [],
   "source": []
  },
  {
   "cell_type": "code",
   "execution_count": null,
   "id": "complete-elizabeth",
   "metadata": {},
   "outputs": [],
   "source": []
  },
  {
   "cell_type": "code",
   "execution_count": null,
   "id": "legitimate-genre",
   "metadata": {},
   "outputs": [],
   "source": []
  },
  {
   "cell_type": "code",
   "execution_count": null,
   "id": "incorporate-sunday",
   "metadata": {},
   "outputs": [],
   "source": []
  },
  {
   "cell_type": "code",
   "execution_count": null,
   "id": "committed-richmond",
   "metadata": {},
   "outputs": [],
   "source": []
  },
  {
   "cell_type": "code",
   "execution_count": null,
   "id": "enormous-acquisition",
   "metadata": {},
   "outputs": [],
   "source": []
  },
  {
   "cell_type": "code",
   "execution_count": null,
   "id": "thorough-crowd",
   "metadata": {},
   "outputs": [],
   "source": []
  },
  {
   "cell_type": "code",
   "execution_count": null,
   "id": "radical-roman",
   "metadata": {},
   "outputs": [],
   "source": []
  },
  {
   "cell_type": "code",
   "execution_count": null,
   "id": "backed-compact",
   "metadata": {},
   "outputs": [],
   "source": []
  },
  {
   "cell_type": "code",
   "execution_count": null,
   "id": "initial-shoot",
   "metadata": {},
   "outputs": [],
   "source": []
  },
  {
   "cell_type": "code",
   "execution_count": null,
   "id": "binding-ready",
   "metadata": {},
   "outputs": [],
   "source": []
  }
 ],
 "metadata": {
  "kernelspec": {
   "display_name": "Python 3",
   "language": "python",
   "name": "python3"
  },
  "language_info": {
   "codemirror_mode": {
    "name": "ipython",
    "version": 3
   },
   "file_extension": ".py",
   "mimetype": "text/x-python",
   "name": "python",
   "nbconvert_exporter": "python",
   "pygments_lexer": "ipython3",
   "version": "3.8.5"
  }
 },
 "nbformat": 4,
 "nbformat_minor": 5
}
