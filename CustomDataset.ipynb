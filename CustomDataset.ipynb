{
 "cells": [
  {
   "cell_type": "code",
   "execution_count": 146,
   "id": "e8a8d1d8",
   "metadata": {},
   "outputs": [],
   "source": [
    "from torch.utils.data.dataset import Dataset\n",
    "from torch.utils.data import DataLoader\n",
    "import torchvision.transforms as T\n",
    "from torchvision import datasets, transforms, models\n",
    "from torchvision.transforms.functional import *\n",
    "\n",
    "from collections import defaultdict, deque\n",
    "import itertools\n",
    "\n",
    "import matplotlib.pyplot as plt\n",
    "import numpy as np\n",
    "import torch.utils.data\n",
    "import torch\n",
    "\n"
   ]
  },
  {
   "cell_type": "code",
   "execution_count": null,
   "id": "ad4529db",
   "metadata": {},
   "outputs": [],
   "source": []
  },
  {
   "cell_type": "code",
   "execution_count": null,
   "id": "350830d4",
   "metadata": {},
   "outputs": [],
   "source": []
  },
  {
   "cell_type": "code",
   "execution_count": null,
   "id": "a2d4d290",
   "metadata": {},
   "outputs": [],
   "source": []
  },
  {
   "cell_type": "code",
   "execution_count": null,
   "id": "b8612ddc",
   "metadata": {},
   "outputs": [],
   "source": []
  },
  {
   "cell_type": "code",
   "execution_count": null,
   "id": "6a80e1ab",
   "metadata": {},
   "outputs": [],
   "source": []
  },
  {
   "cell_type": "code",
   "execution_count": null,
   "id": "12c64334",
   "metadata": {},
   "outputs": [],
   "source": []
  },
  {
   "cell_type": "code",
   "execution_count": 121,
   "id": "1424f912",
   "metadata": {},
   "outputs": [],
   "source": [
    "H = 32\n",
    "W= 32\n",
    "bs = 5\n",
    "\n",
    "transform = T.Compose([\n",
    "T.Resize((H,W)),\n",
    "T.ToTensor(),\n",
    "T.Normalize([0.485, 0.456, 0.406], [0.229, 0.224, 0.225])\n",
    "])"
   ]
  },
  {
   "cell_type": "code",
   "execution_count": 132,
   "id": "6ea11151",
   "metadata": {},
   "outputs": [
    {
     "data": {
      "text/plain": [
       "torchvision.datasets.cifar.CIFAR10"
      ]
     },
     "execution_count": 132,
     "metadata": {},
     "output_type": "execute_result"
    }
   ],
   "source": [
    "datasets.CIFAR10"
   ]
  },
  {
   "cell_type": "code",
   "execution_count": 141,
   "id": "1831f8ef",
   "metadata": {},
   "outputs": [],
   "source": [
    "class ImagenetRotation(datasets.CIFAR10):\n",
    "    def __init__(self, path, transforms, degrees, train=True):\n",
    "        super().__init__(path, train, download=True)\n",
    "        self.transforms = transforms\n",
    "        self.n_images_per_class = 50\n",
    "        self.n_classes = 10\n",
    "        self.degrees = degrees\n",
    "        labelDict = {0:0,90:1,180:2,270:3}\n",
    "        self.category = labelDict[self.degrees] \n",
    "        self.new2old_indices = self.create_idx_mapping()\n",
    "        #print(self.new2old_indices)\n",
    "\n",
    "    def create_idx_mapping(self):\n",
    "        label2idx = defaultdict(lambda: deque(maxlen=self.n_images_per_class))\n",
    "        for original_idx in range(super().__len__()):\n",
    "            _, label = super().__getitem__(original_idx)\n",
    "            label2idx[label].append(original_idx)\n",
    "\n",
    "        old_idxs = set(itertools.chain(*label2idx.values()))\n",
    "        new2old_indices = {}\n",
    "        for new_idx, old_idx in enumerate(old_idxs):\n",
    "            new2old_indices[new_idx] = old_idx\n",
    "\n",
    "        return new2old_indices\n",
    "\n",
    "    def __len__(self):\n",
    "        return len(self.new2old_indices)\n",
    "\n",
    "    def __getitem__(self, index):\n",
    "        index = self.new2old_indices[index]\n",
    "        im, _ = super().__getitem__(index)\n",
    "        return rotate(self.transforms(im),self.degrees), self.category"
   ]
  },
  {
   "cell_type": "code",
   "execution_count": 142,
   "id": "e22704e7",
   "metadata": {},
   "outputs": [],
   "source": [
    "class DatasetRotation(datasets.CIFAR10):\n",
    "    def __init__(self, path, transforms, degrees, train=True):\n",
    "        super().__init__(path, train, download=True)\n",
    "        self.transforms = transforms\n",
    "        self.n_images_per_class = 100\n",
    "        self.n_classes = 1\n",
    "        self.degrees = degrees\n",
    "        labelDict = {0:0,90:1,180:2,270:3}\n",
    "        self.category = labelDict[self.degrees] \n",
    "        self.new2old_indices = self.create_idx_mapping()\n",
    "\n",
    "    def create_idx_mapping(self):\n",
    "        label2idx = defaultdict(lambda: deque(maxlen=self.n_images_per_class))\n",
    "        for original_idx in range(super().__len__()):\n",
    "            _, label = super().__getitem__(original_idx)\n",
    "            label2idx[label].append(original_idx)\n",
    "\n",
    "        old_idxs = set(itertools.chain(*label2idx.values()))\n",
    "        new2old_indices = {}\n",
    "        for new_idx, old_idx in enumerate(old_idxs):\n",
    "            new2old_indices[new_idx] = old_idx\n",
    "\n",
    "        return new2old_indices\n",
    "\n",
    "    def __len__(self):\n",
    "        return len(self.new2old_indices)\n",
    "\n",
    "    def __getitem__(self, index):\n",
    "        index = self.new2old_indices[index]\n",
    "        im, _ = super().__getitem__(index)\n",
    "        return rotate(self.transforms(im),self.degrees), self.category"
   ]
  },
  {
   "cell_type": "code",
   "execution_count": 143,
   "id": "92a4b1e0",
   "metadata": {},
   "outputs": [
    {
     "name": "stdout",
     "output_type": "stream",
     "text": [
      "Files already downloaded and verified\n"
     ]
    },
    {
     "data": {
      "text/plain": [
       "Dataset DatasetRotation\n",
       "    Number of datapoints: 1000\n",
       "    Root location: data/\n",
       "    Split: Train\n",
       "    Compose(\n",
       "    Resize(size=(32, 32), interpolation=PIL.Image.BILINEAR)\n",
       "    ToTensor()\n",
       "    Normalize(mean=[0.485, 0.456, 0.406], std=[0.229, 0.224, 0.225])\n",
       ")"
      ]
     },
     "execution_count": 143,
     "metadata": {},
     "output_type": "execute_result"
    }
   ],
   "source": [
    "dt = DatasetRotation('data/',transform, d)\n",
    "dt"
   ]
  },
  {
   "cell_type": "code",
   "execution_count": 136,
   "id": "4c64858e",
   "metadata": {},
   "outputs": [
    {
     "name": "stdout",
     "output_type": "stream",
     "text": [
      "Files already downloaded and verified\n",
      "Files already downloaded and verified\n",
      "Files already downloaded and verified\n",
      "Files already downloaded and verified\n"
     ]
    }
   ],
   "source": [
    "dts = []\n",
    "for d in [0,90,180,270]:\n",
    "    ds = DatasetRotation('data/',transform, d)\n",
    "    dts.append(ds)\n",
    "myDataset = torch.utils.data.ConcatDataset(dts)"
   ]
  },
  {
   "cell_type": "code",
   "execution_count": null,
   "id": "624a07c6",
   "metadata": {},
   "outputs": [],
   "source": []
  },
  {
   "cell_type": "code",
   "execution_count": 137,
   "id": "1f74df6c",
   "metadata": {},
   "outputs": [],
   "source": [
    "loader = DataLoader(myDataset, batch_size=10, shuffle=True)"
   ]
  },
  {
   "cell_type": "code",
   "execution_count": 138,
   "id": "6628f1a4",
   "metadata": {},
   "outputs": [],
   "source": [
    "def im_convert(tensor):\n",
    "    image = tensor.cpu().clone().detach().numpy()\n",
    "    image = image.transpose(1, 2, 0)\n",
    "    image = image * np.array((0.5, 0.5, 0.5)) + np.array((0.5, 0.5, 0.5))\n",
    "    image = image.clip(0, 1)\n",
    "    return image"
   ]
  },
  {
   "cell_type": "code",
   "execution_count": 139,
   "id": "a940ded5",
   "metadata": {},
   "outputs": [
    {
     "data": {
      "image/png": "[encoded data removed]",
      "text/plain": [
       "<Figure size 1800x288 with 10 Axes>"
      ]
     },
     "metadata": {},
     "output_type": "display_data"
    }
   ],
   "source": [
    "dataiter = iter(loader)\n",
    "images, labels = dataiter.next()\n",
    "fig = plt.figure(figsize=(25, 4))\n",
    "\n",
    "for idx in np.arange(10):\n",
    "    ax = fig.add_subplot(2, 10, idx+1, xticks=[], yticks=[])\n",
    "    plt.imshow(im_convert(images[idx]))\n",
    "    ax.set_title([labels[idx].item()])"
   ]
  },
  {
   "cell_type": "code",
   "execution_count": null,
   "id": "33bf5b35",
   "metadata": {},
   "outputs": [],
   "source": []
  },
  {
   "cell_type": "code",
   "execution_count": null,
   "id": "c07613c3",
   "metadata": {},
   "outputs": [],
   "source": []
  },
  {
   "cell_type": "code",
   "execution_count": null,
   "id": "3f81e55c",
   "metadata": {},
   "outputs": [],
   "source": []
  },
  {
   "cell_type": "code",
   "execution_count": null,
   "id": "9b8cced8",
   "metadata": {},
   "outputs": [],
   "source": []
  },
  {
   "cell_type": "code",
   "execution_count": null,
   "id": "42dc8726",
   "metadata": {},
   "outputs": [],
   "source": []
  },
  {
   "cell_type": "code",
   "execution_count": null,
   "id": "d8965657",
   "metadata": {},
   "outputs": [],
   "source": []
  }
 ],
 "metadata": {
  "kernelspec": {
   "display_name": "Python 3",
   "language": "python",
   "name": "python3"
  },
  "language_info": {
   "codemirror_mode": {
    "name": "ipython",
    "version": 3
   },
   "file_extension": ".py",
   "mimetype": "text/x-python",
   "name": "python",
   "nbconvert_exporter": "python",
   "pygments_lexer": "ipython3",
   "version": "3.9.4"
  }
 },
 "nbformat": 4,
 "nbformat_minor": 5
}
